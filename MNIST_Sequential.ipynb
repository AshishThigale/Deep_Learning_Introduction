{
 "cells": [
  {
   "cell_type": "markdown",
   "metadata": {
    "colab_type": "text",
    "id": "3ONlZ4Vu_6s9"
   },
   "source": [
    "<p><h2><b><font color = 'Blue'> MNIST Case Study </font></b></h2></p>"
   ]
  },
  {
   "cell_type": "markdown",
   "metadata": {
    "colab_type": "text",
    "id": "9ZlNxpfi_6tG"
   },
   "source": [
    "The MNIST problem is a dataset developed by Yann LeCun, Corinna Cortes and Christopher Burges for evaluating machine learning models on the handwritten digit classification problem.\n",
    "\n",
    "The dataset was constructed from a number of scanned document dataset available from the National Institute of Standards and Technology (NIST). This is where the name for the dataset comes from, as the Modified NIST or MNIST dataset.\n",
    "\n",
    "Images of digits were taken from a variety of scanned documents, normalized in size and centered. This makes it an excellent dataset for evaluating models, allowing the developer to focus on the machine learning with very little data cleaning or preparation required.\n",
    "\n",
    "Each image is a 28 by 28 pixel square (784 pixels total). A standard split of the dataset is used to evaluate and compare models, where 60,000 images are used to train a model and a separate set of 10,000 images are used to test it.\n",
    "\n",
    "It is a digit recognition task. As such there are 10 digits (0 to 9) or 10 classes to predict. Results are reported using prediction error, which is nothing more than the inverted classification accuracy.\n",
    "\n",
    "<img src = 'https://dim-mlp-images.s3.amazonaws.com/Deep+Learning/MINST/MNIST.png'>"
   ]
  },
  {
   "cell_type": "code",
   "execution_count": 0,
   "metadata": {
    "colab": {
     "base_uri": "https://localhost:8080/",
     "height": 34
    },
    "colab_type": "code",
    "id": "YpdKL9VLlvP8",
    "outputId": "870bd6a2-cb44-49c1-a536-62e8c1043ec9"
   },
   "outputs": [
    {
     "name": "stdout",
     "output_type": "stream",
     "text": [
      "TensorFlow 2.x selected.\n"
     ]
    }
   ],
   "source": [
    "%tensorflow_version 2.x\n",
    "from tensorflow import keras"
   ]
  },
  {
   "cell_type": "code",
   "execution_count": 0,
   "metadata": {
    "colab": {},
    "colab_type": "code",
    "id": "TiFJdP8ClvYp"
   },
   "outputs": [],
   "source": [
    "import tensorflow as tf"
   ]
  },
  {
   "cell_type": "code",
   "execution_count": 0,
   "metadata": {
    "colab": {
     "base_uri": "https://localhost:8080/",
     "height": 34
    },
    "colab_type": "code",
    "id": "C4i-ALc6lvCE",
    "outputId": "42093a9c-67c6-40f6-acae-d016df6bdf62"
   },
   "outputs": [
    {
     "data": {
      "text/plain": [
       "'2.1.0-rc1'"
      ]
     },
     "execution_count": 3,
     "metadata": {
      "tags": []
     },
     "output_type": "execute_result"
    }
   ],
   "source": [
    "tf.__version__"
   ]
  },
  {
   "cell_type": "code",
   "execution_count": 0,
   "metadata": {
    "colab": {
     "base_uri": "https://localhost:8080/",
     "height": 34
    },
    "colab_type": "code",
    "id": "ez2WbKEtwGfk",
    "outputId": "f265edea-47e2-4292-e0e2-3177a6d46c9e"
   },
   "outputs": [
    {
     "data": {
      "text/plain": [
       "'2.2.4-tf'"
      ]
     },
     "execution_count": 4,
     "metadata": {
      "tags": []
     },
     "output_type": "execute_result"
    }
   ],
   "source": [
    "keras.__version__"
   ]
  },
  {
   "cell_type": "markdown",
   "metadata": {
    "colab_type": "text",
    "id": "oIM-f_BU_6t9"
   },
   "source": [
    "<p><h3><b><font color = 'DarkBlue'> Loading the MNIST dataset in Keras </font></b></h3></p>\n",
    "\n",
    "The MNIST dataset comes preloaded in Keras, in the form of a set of four Numpy\n",
    "arrays."
   ]
  },
  {
   "cell_type": "code",
   "execution_count": 0,
   "metadata": {
    "colab": {
     "base_uri": "https://localhost:8080/",
     "height": 34
    },
    "colab_type": "code",
    "id": "cJSlV1H9lu01",
    "outputId": "24a9a990-e5c5-460a-d2ca-ea11037763d0"
   },
   "outputs": [
    {
     "name": "stderr",
     "output_type": "stream",
     "text": [
      "Using TensorFlow backend.\n"
     ]
    }
   ],
   "source": [
    "from keras.datasets import mnist"
   ]
  },
  {
   "cell_type": "code",
   "execution_count": 0,
   "metadata": {
    "colab": {
     "base_uri": "https://localhost:8080/",
     "height": 51
    },
    "colab_type": "code",
    "id": "ew2JbVqul-r5",
    "outputId": "fb8aefce-c031-461a-8ce8-4ba32420d54a"
   },
   "outputs": [
    {
     "name": "stdout",
     "output_type": "stream",
     "text": [
      "Downloading data from https://s3.amazonaws.com/img-datasets/mnist.npz\n",
      "11493376/11490434 [==============================] - 1s 0us/step\n"
     ]
    }
   ],
   "source": [
    "(train_images, train_labels), (test_images, test_labels) = mnist.load_data()"
   ]
  },
  {
   "cell_type": "markdown",
   "metadata": {
    "colab_type": "text",
    "id": "gyntrbIi_6uP"
   },
   "source": [
    "<p><b>train_images and train_labels form the training set, the data that the model will learn from. The model will then be tested on the test set, test_images and test_labels.</b></p>"
   ]
  },
  {
   "cell_type": "code",
   "execution_count": 0,
   "metadata": {
    "colab": {
     "base_uri": "https://localhost:8080/",
     "height": 34
    },
    "colab_type": "code",
    "id": "K52hE1Sal-pL",
    "outputId": "ba2f8d55-2c09-4e70-c5a6-27c7772a9649"
   },
   "outputs": [
    {
     "data": {
      "text/plain": [
       "(60000, 28, 28)"
      ]
     },
     "execution_count": 7,
     "metadata": {
      "tags": []
     },
     "output_type": "execute_result"
    }
   ],
   "source": [
    "train_images.shape"
   ]
  },
  {
   "cell_type": "code",
   "execution_count": 0,
   "metadata": {
    "colab": {
     "base_uri": "https://localhost:8080/",
     "height": 34
    },
    "colab_type": "code",
    "id": "8jK-ko4El-mU",
    "outputId": "a54cdbdc-6974-4294-af6f-5cc2ca16315f"
   },
   "outputs": [
    {
     "data": {
      "text/plain": [
       "array([5, 0, 4, ..., 5, 6, 8], dtype=uint8)"
      ]
     },
     "execution_count": 8,
     "metadata": {
      "tags": []
     },
     "output_type": "execute_result"
    }
   ],
   "source": [
    "train_labels"
   ]
  },
  {
   "cell_type": "code",
   "execution_count": 0,
   "metadata": {
    "colab": {
     "base_uri": "https://localhost:8080/",
     "height": 34
    },
    "colab_type": "code",
    "id": "0mVP7AohgIT_",
    "outputId": "2ce27b7b-10cd-46fe-9829-aa8d09df08b4"
   },
   "outputs": [
    {
     "data": {
      "text/plain": [
       "(60000,)"
      ]
     },
     "execution_count": 9,
     "metadata": {
      "tags": []
     },
     "output_type": "execute_result"
    }
   ],
   "source": [
    "train_labels.shape"
   ]
  },
  {
   "cell_type": "markdown",
   "metadata": {
    "colab_type": "text",
    "id": "0dNj5f0pm-GD"
   },
   "source": [
    "<p><h3><font color= 'DarkBlue'><b> Visualizing first four samples in Train dataset </b></font></h3></p>\n",
    "\n",
    "\n"
   ]
  },
  {
   "cell_type": "code",
   "execution_count": 0,
   "metadata": {
    "colab": {
     "base_uri": "https://localhost:8080/",
     "height": 34
    },
    "colab_type": "code",
    "id": "g5-Ri2rhmlpq",
    "outputId": "abccbc16-3b0e-4376-a630-2f4ae20fc169"
   },
   "outputs": [
    {
     "data": {
      "text/plain": [
       "(28, 28)"
      ]
     },
     "execution_count": 10,
     "metadata": {
      "tags": []
     },
     "output_type": "execute_result"
    }
   ],
   "source": [
    "import matplotlib.pyplot as plt\n",
    "train_images[0,:,:].shape"
   ]
  },
  {
   "cell_type": "code",
   "execution_count": 0,
   "metadata": {
    "colab": {
     "base_uri": "https://localhost:8080/",
     "height": 268
    },
    "colab_type": "code",
    "id": "dU2kbzOsmlm6",
    "outputId": "4f67255b-0f15-4aeb-f02f-a8010e201b25"
   },
   "outputs": [
    {
     "data": {
      "image/png": "[encoded data removed]",
      "text/plain": [
       "<Figure size 432x288 with 4 Axes>"
      ]
     },
     "metadata": {
      "tags": []
     },
     "output_type": "display_data"
    }
   ],
   "source": [
    "plt.subplot(2,2,1)\n",
    "plt.imshow(train_images[0], cmap='gray')\n",
    "plt.subplot(2,2,2)\n",
    "plt.imshow(train_images[1], cmap='gray')\n",
    "plt.subplot(2,2,3)\n",
    "plt.imshow(train_images[2], cmap='gray')\n",
    "plt.subplot(2,2,4)\n",
    "plt.imshow(train_images[3], cmap='gray');"
   ]
  },
  {
   "cell_type": "markdown",
   "metadata": {
    "colab_type": "text",
    "id": "ZqK9nZl2_6vK"
   },
   "source": [
    "<p><h3><b><font color = 'DarkBlue'> Preparing the image data </font></b></h3></p>\n",
    "\n",
    "The training dataset is structured as a 3-dimensional array of instance, image width and image height. For a multi-layer perceptron model we must reduce the images down into a vector of pixels. In this case the 28×28 sized images will be 784 pixel input values.\n",
    "\n",
    "Before training, we’ll preprocess the data by reshaping it into the shape the network expects and scaling it so that all values are in the [0, 1] interval. Previously, our training\n",
    "images, for instance, were stored in an array of shape (60000, 28, 28) of type uint8 with values in the [0, 255] interval. We transform it into a float32 array of\n",
    "shape (60000, 28 * 28) with values between 0 and 1.\n"
   ]
  },
  {
   "cell_type": "code",
   "execution_count": 0,
   "metadata": {
    "colab": {
     "base_uri": "https://localhost:8080/",
     "height": 34
    },
    "colab_type": "code",
    "id": "1-Xk5NMqd0jq",
    "outputId": "06ab2bcb-ba74-4de1-ea29-721bd24f0f65"
   },
   "outputs": [
    {
     "data": {
      "text/plain": [
       "(60000, 28, 28)"
      ]
     },
     "execution_count": 12,
     "metadata": {
      "tags": []
     },
     "output_type": "execute_result"
    }
   ],
   "source": [
    "train_images.shape"
   ]
  },
  {
   "cell_type": "code",
   "execution_count": 0,
   "metadata": {
    "colab": {
     "base_uri": "https://localhost:8080/",
     "height": 34
    },
    "colab_type": "code",
    "id": "e4Wzfr3_qlWz",
    "outputId": "01210e31-8511-4e42-ed37-01bb949d6d10"
   },
   "outputs": [
    {
     "data": {
      "text/plain": [
       "3"
      ]
     },
     "execution_count": 13,
     "metadata": {
      "tags": []
     },
     "output_type": "execute_result"
    }
   ],
   "source": [
    "train_images.ndim"
   ]
  },
  {
   "cell_type": "code",
   "execution_count": 0,
   "metadata": {
    "colab": {},
    "colab_type": "code",
    "id": "QghMu3wLqoHd"
   },
   "outputs": [],
   "source": [
    "#train_images[10:20,10:20,10:20]"
   ]
  },
  {
   "cell_type": "code",
   "execution_count": 0,
   "metadata": {
    "colab": {},
    "colab_type": "code",
    "id": "1ko1TTOFl-XM"
   },
   "outputs": [],
   "source": [
    "train_images = train_images.reshape((60000, 28 * 28))\n",
    "train_images = train_images.astype('float32') / 255\n",
    "test_images = test_images.reshape((10000, 28 * 28)) \n",
    "test_images = test_images.astype('float32') / 255"
   ]
  },
  {
   "cell_type": "code",
   "execution_count": 0,
   "metadata": {
    "colab": {
     "base_uri": "https://localhost:8080/",
     "height": 34
    },
    "colab_type": "code",
    "id": "1ZCBJ1WHp9K6",
    "outputId": "559124e7-0c6a-4384-bfe4-b474dc6cde55"
   },
   "outputs": [
    {
     "data": {
      "text/plain": [
       "2"
      ]
     },
     "execution_count": 16,
     "metadata": {
      "tags": []
     },
     "output_type": "execute_result"
    }
   ],
   "source": [
    "train_images.ndim"
   ]
  },
  {
   "cell_type": "code",
   "execution_count": 0,
   "metadata": {
    "colab": {
     "base_uri": "https://localhost:8080/",
     "height": 34
    },
    "colab_type": "code",
    "id": "X7HC7-5UqBKF",
    "outputId": "a201d4e4-1b9d-49b3-fccd-dd9036502ce4"
   },
   "outputs": [
    {
     "data": {
      "text/plain": [
       "(60000, 784)"
      ]
     },
     "execution_count": 17,
     "metadata": {
      "tags": []
     },
     "output_type": "execute_result"
    }
   ],
   "source": [
    "train_images.shape"
   ]
  },
  {
   "cell_type": "code",
   "execution_count": 0,
   "metadata": {
    "colab": {},
    "colab_type": "code",
    "id": "uoKIhR8a9_hC"
   },
   "outputs": [],
   "source": [
    "#train_images[:20,100:120]"
   ]
  },
  {
   "cell_type": "code",
   "execution_count": 0,
   "metadata": {
    "colab": {
     "base_uri": "https://localhost:8080/",
     "height": 238
    },
    "colab_type": "code",
    "id": "LwMBplzvrsAm",
    "outputId": "884e6d0e-ce0d-45df-d026-11d070bb84da"
   },
   "outputs": [
    {
     "data": {
      "text/plain": [
       "array([[0.        , 0.        , 0.        , ..., 0.        , 0.        ,\n",
       "        0.81960785],\n",
       "       [0.        , 0.        , 0.        , ..., 0.        , 0.        ,\n",
       "        0.        ],\n",
       "       [0.        , 0.        , 0.        , ..., 0.        , 0.        ,\n",
       "        0.        ],\n",
       "       ...,\n",
       "       [0.        , 0.        , 0.        , ..., 0.        , 0.04313726,\n",
       "        0.60784316],\n",
       "       [0.6117647 , 0.        , 0.        , ..., 0.9882353 , 0.99607843,\n",
       "        0.6784314 ],\n",
       "       [0.        , 0.        , 0.        , ..., 0.        , 0.        ,\n",
       "        0.        ]], dtype=float32)"
      ]
     },
     "execution_count": 19,
     "metadata": {
      "tags": []
     },
     "output_type": "execute_result"
    }
   ],
   "source": [
    "#train_images[15000:15100,300:400]"
   ]
  },
  {
   "cell_type": "markdown",
   "metadata": {
    "colab_type": "text",
    "id": "8VwYt_Uq_6vQ"
   },
   "source": [
    "<p><h3><b><font color = 'DarkBlue'> Preparing the labels </font></b></h3></p>\n",
    "\n",
    "the output variable is an integer from 0 to 9. This is a multi-class classification problem. As such, it is good practice to use a one hot encoding of the class values, transforming the vector of class integers into a binary matrix. We use to_categorical() to encode the labels."
   ]
  },
  {
   "cell_type": "code",
   "execution_count": 0,
   "metadata": {
    "colab": {
     "base_uri": "https://localhost:8080/",
     "height": 34
    },
    "colab_type": "code",
    "id": "dqn0KHdwsdiw",
    "outputId": "ac5bb76e-1595-4433-e11e-f80fcf2f4fba"
   },
   "outputs": [
    {
     "data": {
      "text/plain": [
       "array([5, 0, 4, ..., 5, 6, 8], dtype=uint8)"
      ]
     },
     "execution_count": 19,
     "metadata": {
      "tags": []
     },
     "output_type": "execute_result"
    }
   ],
   "source": [
    "train_labels"
   ]
  },
  {
   "cell_type": "code",
   "execution_count": 0,
   "metadata": {
    "colab": {},
    "colab_type": "code",
    "id": "dhGWxEgDtLMU"
   },
   "outputs": [],
   "source": [
    "from keras.utils import to_categorical\n",
    "train_labels = to_categorical(train_labels)\n",
    "test_labels = to_categorical(test_labels)"
   ]
  },
  {
   "cell_type": "code",
   "execution_count": 0,
   "metadata": {
    "colab": {
     "base_uri": "https://localhost:8080/",
     "height": 136
    },
    "colab_type": "code",
    "id": "UOHmIOy_sS3o",
    "outputId": "e7e55505-f8c0-48d1-ec70-c335dd193387"
   },
   "outputs": [
    {
     "data": {
      "text/plain": [
       "array([[0., 0., 0., ..., 0., 0., 0.],\n",
       "       [1., 0., 0., ..., 0., 0., 0.],\n",
       "       [0., 0., 0., ..., 0., 0., 0.],\n",
       "       ...,\n",
       "       [0., 0., 0., ..., 0., 0., 0.],\n",
       "       [0., 0., 0., ..., 0., 0., 0.],\n",
       "       [0., 0., 0., ..., 0., 1., 0.]], dtype=float32)"
      ]
     },
     "execution_count": 21,
     "metadata": {
      "tags": []
     },
     "output_type": "execute_result"
    }
   ],
   "source": [
    "train_labels"
   ]
  },
  {
   "cell_type": "code",
   "execution_count": 0,
   "metadata": {
    "colab": {
     "base_uri": "https://localhost:8080/",
     "height": 34
    },
    "colab_type": "code",
    "id": "p63R1Dq6n7v-",
    "outputId": "8b823fb7-a015-4016-b56c-5f18b5b471ee"
   },
   "outputs": [
    {
     "data": {
      "text/plain": [
       "(60000, 10)"
      ]
     },
     "execution_count": 23,
     "metadata": {
      "tags": []
     },
     "output_type": "execute_result"
    }
   ],
   "source": [
    "train_labels.shape"
   ]
  },
  {
   "cell_type": "markdown",
   "metadata": {
    "colab_type": "text",
    "id": "3NDMUXUq_6uk"
   },
   "source": [
    "<p><h3><b><font color = 'DarkBlue'> Network Architecture </font></b></h3></p>\n",
    "\n",
    "# ***1. Building a Sequential Model ***\n",
    "  We can create a deep learning sequential model with two layers. \n",
    "  \n",
    "\n",
    "\n",
    "\n"
   ]
  },
  {
   "cell_type": "code",
   "execution_count": 0,
   "metadata": {
    "colab": {},
    "colab_type": "code",
    "id": "QO58em68l-jq"
   },
   "outputs": [],
   "source": [
    "from keras import models\n",
    "from keras import layers"
   ]
  },
  {
   "cell_type": "code",
   "execution_count": 0,
   "metadata": {
    "colab": {},
    "colab_type": "code",
    "id": "nMHq_Wuwl-g-"
   },
   "outputs": [],
   "source": [
    "network = keras.models.Sequential()"
   ]
  },
  {
   "cell_type": "markdown",
   "metadata": {
    "colab_type": "text",
    "id": "RgZwrZjGO92j"
   },
   "source": [
    "<p> We are creating a simple model with one hidden layer with 300 number of neurons. A rectifier activation function is used for the neurons in the hidden layer. \n",
    "A softmax activation function is used on the output layer to turn the outputs into probability-like values and allow one class of the 10 to be selected as the model’s output prediction.`"
   ]
  },
  {
   "cell_type": "code",
   "execution_count": 0,
   "metadata": {
    "colab": {},
    "colab_type": "code",
    "id": "T8S_vz1Hl-dU"
   },
   "outputs": [],
   "source": [
    "network.add(keras.layers.Dense(300, activation='relu', input_shape=(784,)))\n"
   ]
  },
  {
   "cell_type": "code",
   "execution_count": 0,
   "metadata": {
    "colab": {
     "base_uri": "https://localhost:8080/",
     "height": 34
    },
    "colab_type": "code",
    "id": "j5U1nYA1ujLJ",
    "outputId": "14073430-59b5-4924-8023-c9cb53d0aa0e"
   },
   "outputs": [
    {
     "data": {
      "text/plain": [
       "235500"
      ]
     },
     "execution_count": 27,
     "metadata": {
      "tags": []
     },
     "output_type": "execute_result"
    }
   ],
   "source": [
    "300*784 +300"
   ]
  },
  {
   "cell_type": "code",
   "execution_count": 0,
   "metadata": {
    "colab": {
     "base_uri": "https://localhost:8080/",
     "height": 187
    },
    "colab_type": "code",
    "id": "SUcfnK6PsDVU",
    "outputId": "79fd7b2f-6310-4bc0-ad15-776e9a663e01"
   },
   "outputs": [
    {
     "name": "stdout",
     "output_type": "stream",
     "text": [
      "Model: \"sequential\"\n",
      "_________________________________________________________________\n",
      "Layer (type)                 Output Shape              Param #   \n",
      "=================================================================\n",
      "dense (Dense)                (None, 300)               235500    \n",
      "=================================================================\n",
      "Total params: 235,500\n",
      "Trainable params: 235,500\n",
      "Non-trainable params: 0\n",
      "_________________________________________________________________\n"
     ]
    }
   ],
   "source": [
    "network.summary()"
   ]
  },
  {
   "cell_type": "code",
   "execution_count": 0,
   "metadata": {
    "colab": {},
    "colab_type": "code",
    "id": "aHjN2vvv0pnH"
   },
   "outputs": [],
   "source": [
    "network.add(keras.layers.Dense(10, activation='softmax'))"
   ]
  },
  {
   "cell_type": "code",
   "execution_count": 0,
   "metadata": {
    "colab": {
     "base_uri": "https://localhost:8080/",
     "height": 221
    },
    "colab_type": "code",
    "id": "kPYIoeU90Ok9",
    "outputId": "b09cd0a9-f81b-425a-eef8-bb8cc04f9da0"
   },
   "outputs": [
    {
     "name": "stdout",
     "output_type": "stream",
     "text": [
      "Model: \"sequential\"\n",
      "_________________________________________________________________\n",
      "Layer (type)                 Output Shape              Param #   \n",
      "=================================================================\n",
      "dense (Dense)                (None, 300)               235500    \n",
      "_________________________________________________________________\n",
      "dense_1 (Dense)              (None, 10)                3010      \n",
      "=================================================================\n",
      "Total params: 238,510\n",
      "Trainable params: 238,510\n",
      "Non-trainable params: 0\n",
      "_________________________________________________________________\n"
     ]
    }
   ],
   "source": [
    "network.summary()"
   ]
  },
  {
   "cell_type": "code",
   "execution_count": 0,
   "metadata": {
    "colab": {
     "base_uri": "https://localhost:8080/",
     "height": 34
    },
    "colab_type": "code",
    "id": "W_fTwGraU9nj",
    "outputId": "25f8fe33-1093-48d7-c3bb-99a398d3b0c3"
   },
   "outputs": [
    {
     "data": {
      "text/plain": [
       "2"
      ]
     },
     "execution_count": 31,
     "metadata": {
      "tags": []
     },
     "output_type": "execute_result"
    }
   ],
   "source": [
    "len(network.layers)"
   ]
  },
  {
   "cell_type": "code",
   "execution_count": 0,
   "metadata": {
    "colab": {},
    "colab_type": "code",
    "id": "ieFEnmb-0ke9"
   },
   "outputs": [],
   "source": [
    "#network.pop()   # to remove last layer from the model use pop()"
   ]
  },
  {
   "cell_type": "code",
   "execution_count": 0,
   "metadata": {
    "colab": {},
    "colab_type": "code",
    "id": "YRVnJXhVVmk1"
   },
   "outputs": [],
   "source": [
    "weights = network.get_weights()"
   ]
  },
  {
   "cell_type": "code",
   "execution_count": 0,
   "metadata": {
    "colab": {
     "base_uri": "https://localhost:8080/",
     "height": 34
    },
    "colab_type": "code",
    "id": "9we7Vj26w8JW",
    "outputId": "5380d929-a46d-46cf-e20c-b3b769d2f667"
   },
   "outputs": [
    {
     "data": {
      "text/plain": [
       "list"
      ]
     },
     "execution_count": 34,
     "metadata": {
      "tags": []
     },
     "output_type": "execute_result"
    }
   ],
   "source": [
    "type(weights)"
   ]
  },
  {
   "cell_type": "code",
   "execution_count": 0,
   "metadata": {
    "colab": {
     "base_uri": "https://localhost:8080/",
     "height": 34
    },
    "colab_type": "code",
    "id": "zPR7cen1Vmh4",
    "outputId": "07c4c8ea-5cc8-45b6-e217-96236e591fed"
   },
   "outputs": [
    {
     "data": {
      "text/plain": [
       "((784, 300), (300,), (300, 10), (10,))"
      ]
     },
     "execution_count": 29,
     "metadata": {
      "tags": []
     },
     "output_type": "execute_result"
    }
   ],
   "source": [
    "weights[0].shape,weights[1].shape,weights[2].shape,weights[3].shape"
   ]
  },
  {
   "cell_type": "code",
   "execution_count": 0,
   "metadata": {
    "colab": {
     "base_uri": "https://localhost:8080/",
     "height": 238
    },
    "colab_type": "code",
    "id": "aoKgEEqSyLk0",
    "outputId": "a9105fc0-3759-47d4-f821-7558971541fd"
   },
   "outputs": [
    {
     "data": {
      "text/plain": [
       "array([[ 0.03699031, -0.00067908, -0.09343989, ...,  0.01335266,\n",
       "         0.07738909,  0.09407765],\n",
       "       [ 0.04086448,  0.03286828, -0.04915332, ...,  0.07271297,\n",
       "        -0.10895771,  0.12700887],\n",
       "       [-0.10736863, -0.0886289 , -0.02526411, ..., -0.02836102,\n",
       "        -0.07754068, -0.05127267],\n",
       "       ...,\n",
       "       [ 0.07911496,  0.00167882,  0.01791939, ..., -0.03290244,\n",
       "        -0.08454916,  0.09989917],\n",
       "       [ 0.13062991,  0.00397831,  0.05824725, ..., -0.11562003,\n",
       "        -0.04297085,  0.07701236],\n",
       "       [ 0.08507085, -0.11061769, -0.11349399, ..., -0.01838651,\n",
       "        -0.07814558,  0.07826689]], dtype=float32)"
      ]
     },
     "execution_count": 31,
     "metadata": {
      "tags": []
     },
     "output_type": "execute_result"
    }
   ],
   "source": [
    "weights[2]"
   ]
  },
  {
   "cell_type": "code",
   "execution_count": 0,
   "metadata": {
    "colab": {
     "base_uri": "https://localhost:8080/",
     "height": 238
    },
    "colab_type": "code",
    "id": "t2hW9VVbyPVy",
    "outputId": "7448d636-d242-43ac-ded9-7b2ed8a82d07"
   },
   "outputs": [
    {
     "data": {
      "text/plain": [
       "array([[ 0.01303679,  0.09409097,  0.02146462, ...,  0.03231071,\n",
       "         0.10561524,  0.10049395],\n",
       "       [-0.13220516, -0.09818897, -0.08962873, ...,  0.1248983 ,\n",
       "        -0.10244682,  0.00749806],\n",
       "       [ 0.09939705, -0.09146242,  0.09516993, ..., -0.03407766,\n",
       "         0.07624479, -0.08710362],\n",
       "       ...,\n",
       "       [-0.03386296,  0.0595866 ,  0.10254885, ..., -0.12324838,\n",
       "        -0.02064719, -0.10208419],\n",
       "       [ 0.06767523,  0.11830296,  0.01861836, ..., -0.10152847,\n",
       "         0.03268035,  0.05393805],\n",
       "       [-0.13080479, -0.10186736, -0.10100516, ..., -0.07089841,\n",
       "         0.13436367, -0.00309207]], dtype=float32)"
      ]
     },
     "execution_count": 37,
     "metadata": {
      "tags": []
     },
     "output_type": "execute_result"
    }
   ],
   "source": [
    "weights[2]"
   ]
  },
  {
   "cell_type": "code",
   "execution_count": 0,
   "metadata": {
    "colab": {},
    "colab_type": "code",
    "id": "N69OSiDL0kYM"
   },
   "outputs": [],
   "source": [
    "keras.backend.clear_session()"
   ]
  },
  {
   "cell_type": "markdown",
   "metadata": {
    "colab_type": "text",
    "id": "tC8987F5_6vD"
   },
   "source": [
    "<p><h3><b><font color = 'DarkBlue'> Compilation Step</font></b></h3></p>\n",
    "\n",
    "We will call compile() to specify the loss function. As our targets are one-hot vectors we would use 'categorical_crossentropy' loss function. \n",
    "\n",
    "The optimizer we are using is simple Stochastic Gradient Descent 'sgd' which is used to learn the weights. \n",
    "\n",
    "As this is a classifier model we use 'accuracy' as the metrics for evaluation. "
   ]
  },
  {
   "cell_type": "code",
   "execution_count": 0,
   "metadata": {
    "colab": {},
    "colab_type": "code",
    "id": "9nyRD2uFl-aQ"
   },
   "outputs": [],
   "source": [
    "network.compile(optimizer= keras.optimizers.SGD(learning_rate=0.01),\n",
    "loss='categorical_crossentropy',\n",
    "metrics=['accuracy'])"
   ]
  },
  {
   "cell_type": "code",
   "execution_count": 0,
   "metadata": {
    "colab": {},
    "colab_type": "code",
    "id": "e07qUZkNQ0Ej"
   },
   "outputs": [],
   "source": [
    "network.compile(optimizer= 'SGD',\n",
    "loss='categorical_crossentropy',\n",
    "metrics=['accuracy'])"
   ]
  },
  {
   "cell_type": "markdown",
   "metadata": {
    "colab_type": "text",
    "id": "KfoR2qwC_6vV"
   },
   "source": [
    "<p><h3><b><font color = 'DarkBlue'> Fit the model with train data  </font></b></h3></p>\n",
    "\n",
    "We call fit() to train out model.\n",
    "\n",
    "It takes input features(train_images) and the target classes (train_labels) as well as the number of epochs to train. \n",
    "\n",
    "The number of epochs is a hyperparameter that defines the number times that the learning algorithm will work through the entire training dataset.\n",
    "\n",
    "One epoch means that each sample in the training dataset has had an opportunity to update the internal model parameters. An epoch is comprised of one or more batches. \n",
    "\n",
    "\n"
   ]
  },
  {
   "cell_type": "code",
   "execution_count": 0,
   "metadata": {
    "colab": {
     "base_uri": "https://localhost:8080/",
     "height": 34
    },
    "colab_type": "code",
    "id": "f7gEd8Zj8FG1",
    "outputId": "efd99fe6-fa1e-40ab-b1b5-d55e163f4f27"
   },
   "outputs": [
    {
     "data": {
      "text/plain": [
       "117.1875"
      ]
     },
     "execution_count": 34,
     "metadata": {
      "tags": []
     },
     "output_type": "execute_result"
    }
   ],
   "source": [
    "60000/512"
   ]
  },
  {
   "cell_type": "code",
   "execution_count": 0,
   "metadata": {
    "colab": {
     "base_uri": "https://localhost:8080/",
     "height": 34
    },
    "colab_type": "code",
    "id": "x-sv_YFHFelh",
    "outputId": "639d9524-9feb-413a-c1c4-c7d4b6fbe8b1"
   },
   "outputs": [
    {
     "data": {
      "text/plain": [
       "((10000, 784), (60000, 784))"
      ]
     },
     "execution_count": 41,
     "metadata": {
      "tags": []
     },
     "output_type": "execute_result"
    }
   ],
   "source": [
    "test_images.shape,train_images.shape"
   ]
  },
  {
   "cell_type": "code",
   "execution_count": 0,
   "metadata": {
    "colab": {},
    "colab_type": "code",
    "id": "Uzn-AEedFeaU"
   },
   "outputs": [],
   "source": []
  },
  {
   "cell_type": "code",
   "execution_count": 0,
   "metadata": {
    "colab": {
     "base_uri": "https://localhost:8080/",
     "height": 374
    },
    "colab_type": "code",
    "id": "ahic_vfltLJk",
    "outputId": "68ff6894-d6e4-4081-c52d-f34bd7f95f17"
   },
   "outputs": [
    {
     "name": "stdout",
     "output_type": "stream",
     "text": [
      "Train on 60000 samples, validate on 10000 samples\n",
      "Epoch 1/10\n",
      "60000/60000 [==============================] - 0s 8us/sample - loss: 0.2995 - accuracy: 0.9162 - val_loss: 0.2880 - val_accuracy: 0.9197\n",
      "Epoch 2/10\n",
      "60000/60000 [==============================] - 0s 8us/sample - loss: 0.2966 - accuracy: 0.9170 - val_loss: 0.2857 - val_accuracy: 0.9201\n",
      "Epoch 3/10\n",
      "60000/60000 [==============================] - 0s 8us/sample - loss: 0.2938 - accuracy: 0.9181 - val_loss: 0.2836 - val_accuracy: 0.9208\n",
      "Epoch 4/10\n",
      "60000/60000 [==============================] - 0s 8us/sample - loss: 0.2912 - accuracy: 0.9186 - val_loss: 0.2807 - val_accuracy: 0.9223\n",
      "Epoch 5/10\n",
      "60000/60000 [==============================] - 0s 7us/sample - loss: 0.2885 - accuracy: 0.9193 - val_loss: 0.2785 - val_accuracy: 0.9219\n",
      "Epoch 6/10\n",
      "60000/60000 [==============================] - 0s 8us/sample - loss: 0.2860 - accuracy: 0.9202 - val_loss: 0.2761 - val_accuracy: 0.9218\n",
      "Epoch 7/10\n",
      "60000/60000 [==============================] - 0s 8us/sample - loss: 0.2836 - accuracy: 0.9207 - val_loss: 0.2743 - val_accuracy: 0.9230\n",
      "Epoch 8/10\n",
      "60000/60000 [==============================] - 0s 7us/sample - loss: 0.2813 - accuracy: 0.9214 - val_loss: 0.2716 - val_accuracy: 0.9238\n",
      "Epoch 9/10\n",
      "60000/60000 [==============================] - 0s 7us/sample - loss: 0.2790 - accuracy: 0.9223 - val_loss: 0.2698 - val_accuracy: 0.9245\n",
      "Epoch 10/10\n",
      "60000/60000 [==============================] - 0s 8us/sample - loss: 0.2767 - accuracy: 0.9229 - val_loss: 0.2678 - val_accuracy: 0.9248\n"
     ]
    }
   ],
   "source": [
    "history = network.fit(train_images, train_labels,epochs=10,batch_size=512,validation_data=(test_images,test_labels))"
   ]
  },
  {
   "cell_type": "code",
   "execution_count": 0,
   "metadata": {
    "colab": {},
    "colab_type": "code",
    "id": "XgaLslVjb-p9"
   },
   "outputs": [],
   "source": [
    "history.validation_data"
   ]
  },
  {
   "cell_type": "markdown",
   "metadata": {
    "colab_type": "text",
    "id": "mNX1yJaW_6vb"
   },
   "source": [
    "<p><b>Two quantities are displayed during training: the loss of the network over the training data, and the accuracy of the network over the training data.</b></p>"
   ]
  },
  {
   "cell_type": "code",
   "execution_count": 0,
   "metadata": {
    "colab": {
     "base_uri": "https://localhost:8080/",
     "height": 238
    },
    "colab_type": "code",
    "id": "ZX0cgYqkazla",
    "outputId": "f2d69a95-981f-4e6b-9748-d6e74426dc41"
   },
   "outputs": [
    {
     "data": {
      "text/plain": [
       "array([[1.4898267e-04, 1.6282702e-06, 3.5033523e-04, ..., 9.9578333e-01,\n",
       "        7.2312927e-05, 1.7474698e-03],\n",
       "       [7.8349737e-03, 3.5551313e-04, 9.0521693e-01, ..., 2.1601531e-07,\n",
       "        5.4408815e-03, 1.6243292e-06],\n",
       "       [6.6026172e-05, 9.6953684e-01, 8.4971255e-03, ..., 5.5107940e-03,\n",
       "        4.2782719e-03, 1.1211445e-03],\n",
       "       ...,\n",
       "       [8.8814039e-07, 2.7775002e-06, 5.0994076e-05, ..., 1.1370757e-03,\n",
       "        6.7156702e-03, 2.7690571e-02],\n",
       "       [2.9392117e-03, 1.3691388e-03, 5.8138528e-04, ..., 7.1701281e-05,\n",
       "        1.8018331e-01, 2.2079697e-04],\n",
       "       [1.3585866e-04, 2.7598592e-09, 4.3057656e-04, ..., 2.4350379e-09,\n",
       "        1.9880940e-06, 1.0893955e-07]], dtype=float32)"
      ]
     },
     "execution_count": 39,
     "metadata": {
      "tags": []
     },
     "output_type": "execute_result"
    }
   ],
   "source": [
    "y_proba = network.predict(test_images)    # predict() estimates one probablity per class from 0 to 9\n",
    "y_proba"
   ]
  },
  {
   "cell_type": "code",
   "execution_count": 0,
   "metadata": {
    "colab": {
     "base_uri": "https://localhost:8080/",
     "height": 119
    },
    "colab_type": "code",
    "id": "6fMEh-S_DycZ",
    "outputId": "173e4694-dbdd-4b2c-b837-882e0c0ba5d3"
   },
   "outputs": [
    {
     "data": {
      "text/plain": [
       "array([[1.0928664e-03, 1.2850729e-04, 3.6021709e-04, 1.8448411e-03,\n",
       "        3.1195680e-04, 5.2251184e-04, 4.6135301e-05, 9.8124319e-01,\n",
       "        8.1693137e-04, 1.3632842e-02],\n",
       "       [2.6647272e-02, 1.4340456e-03, 6.7455292e-01, 5.6222156e-02,\n",
       "        4.9358965e-05, 5.9533227e-02, 1.6235662e-01, 2.1205173e-05,\n",
       "        1.9094521e-02, 8.8629407e-05]], dtype=float32)"
      ]
     },
     "execution_count": 45,
     "metadata": {
      "tags": []
     },
     "output_type": "execute_result"
    }
   ],
   "source": [
    "y_proba[0:2]"
   ]
  },
  {
   "cell_type": "code",
   "execution_count": 0,
   "metadata": {
    "colab": {
     "base_uri": "https://localhost:8080/",
     "height": 34
    },
    "colab_type": "code",
    "id": "TjwukB2bWtKZ",
    "outputId": "f891ced5-c9a7-4840-b6d8-c00fdb7f3b97"
   },
   "outputs": [
    {
     "data": {
      "text/plain": [
       "array([7, 2, 1, ..., 4, 5, 6])"
      ]
     },
     "execution_count": 46,
     "metadata": {
      "tags": []
     },
     "output_type": "execute_result"
    }
   ],
   "source": [
    "y_proba.argmax(axis=1)"
   ]
  },
  {
   "cell_type": "markdown",
   "metadata": {
    "colab_type": "text",
    "id": "iy3JV47bWkMU"
   },
   "source": []
  },
  {
   "cell_type": "code",
   "execution_count": 0,
   "metadata": {
    "colab": {
     "base_uri": "https://localhost:8080/",
     "height": 34
    },
    "colab_type": "code",
    "id": "k55TnbYqEcyk",
    "outputId": "49b2149c-8966-4c21-e8f3-bd13a137c5f7"
   },
   "outputs": [
    {
     "data": {
      "text/plain": [
       "(10000, 784)"
      ]
     },
     "execution_count": 46,
     "metadata": {
      "tags": []
     },
     "output_type": "execute_result"
    }
   ],
   "source": [
    "test_images.shape"
   ]
  },
  {
   "cell_type": "code",
   "execution_count": 0,
   "metadata": {
    "colab": {},
    "colab_type": "code",
    "id": "doZ6w4b6EjJ5"
   },
   "outputs": [],
   "source": [
    "test_1 = test_images[0,:]"
   ]
  },
  {
   "cell_type": "code",
   "execution_count": 0,
   "metadata": {
    "colab": {},
    "colab_type": "code",
    "id": "_LDkz9APEoa4"
   },
   "outputs": [],
   "source": [
    "test_1 = test_1.reshape([28,28])"
   ]
  },
  {
   "cell_type": "code",
   "execution_count": 0,
   "metadata": {
    "colab": {
     "base_uri": "https://localhost:8080/",
     "height": 282
    },
    "colab_type": "code",
    "id": "2FJqGFCVEMB4",
    "outputId": "a5df8d67-ec46-42e4-bb14-c6816402ea7c"
   },
   "outputs": [
    {
     "data": {
      "text/plain": [
       "<matplotlib.image.AxesImage at 0x7fe3a04c6da0>"
      ]
     },
     "execution_count": 42,
     "metadata": {
      "tags": []
     },
     "output_type": "execute_result"
    },
    {
     "data": {
      "image/png": "[encoded data removed]",
      "text/plain": [
       "<Figure size 432x288 with 1 Axes>"
      ]
     },
     "metadata": {
      "tags": []
     },
     "output_type": "display_data"
    }
   ],
   "source": [
    "plt.imshow(test_1,cmap='gray')"
   ]
  },
  {
   "cell_type": "code",
   "execution_count": 0,
   "metadata": {
    "colab": {
     "base_uri": "https://localhost:8080/",
     "height": 34
    },
    "colab_type": "code",
    "id": "Vq5Y2V0dazXp",
    "outputId": "e9d7c846-b365-4dcc-aca5-4da4a0ddbc31"
   },
   "outputs": [
    {
     "data": {
      "text/plain": [
       "array([7, 2, 1, ..., 4, 5, 6])"
      ]
     },
     "execution_count": 52,
     "metadata": {
      "tags": []
     },
     "output_type": "execute_result"
    }
   ],
   "source": [
    "y_pred = network.predict_classes(test_images)   # predict_classes() outputs the class with highest estimated probability\n",
    "y_pred"
   ]
  },
  {
   "cell_type": "code",
   "execution_count": 0,
   "metadata": {
    "colab": {},
    "colab_type": "code",
    "id": "9S66MFcu1d02"
   },
   "outputs": [],
   "source": [
    "import numpy as np"
   ]
  },
  {
   "cell_type": "code",
   "execution_count": 0,
   "metadata": {
    "colab": {
     "base_uri": "https://localhost:8080/",
     "height": 34
    },
    "colab_type": "code",
    "id": "SyuKSJSmX3Dx",
    "outputId": "05b07c3e-dc98-49c5-c23c-2c2c8ab86e31"
   },
   "outputs": [
    {
     "data": {
      "text/plain": [
       "array([0., 0., 0., 0., 0., 0., 0., 1., 0., 0.], dtype=float32)"
      ]
     },
     "execution_count": 54,
     "metadata": {
      "tags": []
     },
     "output_type": "execute_result"
    }
   ],
   "source": [
    "test_labels[0]"
   ]
  },
  {
   "cell_type": "code",
   "execution_count": 0,
   "metadata": {
    "colab": {},
    "colab_type": "code",
    "id": "AaOQ_qQm1Qsa"
   },
   "outputs": [],
   "source": [
    "y_actual = np.argmax(test_labels,axis=1)"
   ]
  },
  {
   "cell_type": "code",
   "execution_count": 0,
   "metadata": {
    "colab": {
     "base_uri": "https://localhost:8080/",
     "height": 34
    },
    "colab_type": "code",
    "id": "lDQqQRuZXTne",
    "outputId": "0062f103-213c-4426-dab8-1c63ebc177a9"
   },
   "outputs": [
    {
     "data": {
      "text/plain": [
       "array([7, 2, 1, ..., 4, 5, 6])"
      ]
     },
     "execution_count": 49,
     "metadata": {
      "tags": []
     },
     "output_type": "execute_result"
    }
   ],
   "source": [
    "y_actual"
   ]
  },
  {
   "cell_type": "code",
   "execution_count": 0,
   "metadata": {
    "colab": {},
    "colab_type": "code",
    "id": "ZhrzkVFb1QQu"
   },
   "outputs": [],
   "source": [
    "from sklearn.metrics import confusion_matrix"
   ]
  },
  {
   "cell_type": "code",
   "execution_count": 0,
   "metadata": {
    "colab": {
     "base_uri": "https://localhost:8080/",
     "height": 187
    },
    "colab_type": "code",
    "id": "PNdT3Ove1svo",
    "outputId": "14f7df0d-22ba-422d-839d-824f86e4ce95"
   },
   "outputs": [
    {
     "data": {
      "text/plain": [
       "array([[ 963,    0,    1,    2,    0,    3,    7,    1,    3,    0],\n",
       "       [   0, 1110,    1,    3,    1,    1,    4,    2,   13,    0],\n",
       "       [  10,    4,  920,   17,   17,    0,    9,   16,   33,    6],\n",
       "       [   2,    1,   19,  923,    1,   26,    2,   14,   13,    9],\n",
       "       [   1,    1,    5,    1,  919,    0,   12,    2,    8,   33],\n",
       "       [  11,    4,    5,   33,   10,  785,   12,    4,   21,    7],\n",
       "       [  13,    3,    4,    1,   13,   12,  907,    1,    4,    0],\n",
       "       [   3,   10,   27,    7,    8,    0,    0,  946,    3,   24],\n",
       "       [   9,    6,    7,   18,    9,   20,   14,   11,  870,   10],\n",
       "       [  13,    7,    2,   10,   41,    9,    1,   17,    4,  905]])"
      ]
     },
     "execution_count": 53,
     "metadata": {
      "tags": []
     },
     "output_type": "execute_result"
    }
   ],
   "source": [
    "confusion_matrix(y_actual,y_pred)"
   ]
  },
  {
   "cell_type": "markdown",
   "metadata": {
    "colab_type": "text",
    "id": "SsTy7mgY_6vd"
   },
   "source": [
    "<p><h3><b><font color = 'DarkBlue'> Evaluate the model  </font></b></h3></p>\n",
    "\n",
    "check the performance of model on test data."
   ]
  },
  {
   "cell_type": "code",
   "execution_count": 0,
   "metadata": {
    "colab": {
     "base_uri": "https://localhost:8080/",
     "height": 34
    },
    "colab_type": "code",
    "id": "10kDih0qtLGn",
    "outputId": "16ff2756-5289-40ed-aec7-ee80298f9ec2"
   },
   "outputs": [
    {
     "name": "stdout",
     "output_type": "stream",
     "text": [
      "10000/10000 [==============================] - 1s 64us/sample - loss: 0.2678 - accuracy: 0.9248\n"
     ]
    }
   ],
   "source": [
    "test_loss, test_acc = network.evaluate(test_images, test_labels)"
   ]
  },
  {
   "cell_type": "code",
   "execution_count": 0,
   "metadata": {
    "colab": {
     "base_uri": "https://localhost:8080/",
     "height": 51
    },
    "colab_type": "code",
    "id": "0V__XaRltLAl",
    "outputId": "4d305be6-e77b-411f-a7bf-ebf89c1a983e"
   },
   "outputs": [
    {
     "name": "stdout",
     "output_type": "stream",
     "text": [
      "test_acc: 0.9248\n",
      "test_loss : 0.2678280811727047\n"
     ]
    }
   ],
   "source": [
    "print('test_acc:', test_acc)\n",
    "print('test_loss :', test_loss)"
   ]
  }
 ],
 "metadata": {
  "accelerator": "GPU",
  "colab": {
   "collapsed_sections": [],
   "name": "MNIST_Sequential.ipynb",
   "provenance": []
  },
  "kernelspec": {
   "display_name": "Python 3 (ipykernel)",
   "language": "python",
   "name": "python3"
  },
  "language_info": {
   "codemirror_mode": {
    "name": "ipython",
    "version": 3
   },
   "file_extension": ".py",
   "mimetype": "text/x-python",
   "name": "python",
   "nbconvert_exporter": "python",
   "pygments_lexer": "ipython3",
   "version": "3.9.12"
  }
 },
 "nbformat": 4,
 "nbformat_minor": 1
}
