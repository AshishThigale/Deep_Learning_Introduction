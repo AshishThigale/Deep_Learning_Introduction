{
 "cells": [
  {
   "cell_type": "markdown",
   "metadata": {
    "id": "bLRlQxhsBKYY"
   },
   "source": [
    "\n",
    "\n",
    "## **Homework Problem : Build a classification model for identifying 9 as a digit and 2 as a digit and rest as other class...**\n"
   ]
  },
  {
   "cell_type": "code",
   "execution_count": 113,
   "metadata": {
    "id": "dzxB2h3OQXxW"
   },
   "outputs": [],
   "source": [
    "import tensorflow as tf"
   ]
  },
  {
   "cell_type": "code",
   "execution_count": 114,
   "metadata": {
    "colab": {
     "base_uri": "https://localhost:8080/"
    },
    "id": "J8fc9ogPQlNY",
    "outputId": "fab5a86e-8e09-43bd-dac4-6e9fa7c190c1"
   },
   "outputs": [
    {
     "name": "stdout",
     "output_type": "stream",
     "text": [
      "Colab only includes TensorFlow 2.x; %tensorflow_version has no effect.\n"
     ]
    }
   ],
   "source": [
    "%tensorflow_version 2.x"
   ]
  },
  {
   "cell_type": "code",
   "execution_count": 115,
   "metadata": {
    "id": "Z8gm2pTNQurT"
   },
   "outputs": [],
   "source": [
    "from tensorflow import keras"
   ]
  },
  {
   "cell_type": "code",
   "execution_count": 116,
   "metadata": {
    "id": "IhE69_2PQ0tM"
   },
   "outputs": [],
   "source": [
    "from keras.datasets import mnist"
   ]
  },
  {
   "cell_type": "code",
   "execution_count": 117,
   "metadata": {
    "id": "1NlgiYHTQ-IA"
   },
   "outputs": [],
   "source": [
    "(train_images,train_labels),(test_images,test_labels) = mnist.load_data()"
   ]
  },
  {
   "cell_type": "code",
   "execution_count": 118,
   "metadata": {
    "colab": {
     "base_uri": "https://localhost:8080/"
    },
    "id": "UzhlDBz3RO2a",
    "outputId": "30263cdc-b2c3-4b23-ddb1-011541bf2d7c"
   },
   "outputs": [
    {
     "name": "stdout",
     "output_type": "stream",
     "text": [
      "Train Images shape: (60000, 28, 28)\n",
      "Train Labels shape: (60000,)\n",
      "Test Images shape: (10000, 28, 28)\n",
      "Test Labels shape: (10000,)\n"
     ]
    }
   ],
   "source": [
    "print('Train Images shape:',train_images.shape)\n",
    "print('Train Labels shape:',train_labels.shape)\n",
    "print('Test Images shape:',test_images.shape)\n",
    "print('Test Labels shape:',test_labels.shape)"
   ]
  },
  {
   "cell_type": "code",
   "execution_count": 119,
   "metadata": {
    "id": "XptTVSeQRx4y"
   },
   "outputs": [],
   "source": [
    "train_images = train_images.reshape((60000, 28 * 28))\n",
    "train_images = train_images.astype('float32') / 255\n",
    "test_images = test_images.reshape((10000, 28 * 28)) \n",
    "test_images = test_images.astype('float32') / 255"
   ]
  },
  {
   "cell_type": "code",
   "execution_count": 120,
   "metadata": {
    "id": "yj0m2VLqScoU"
   },
   "outputs": [],
   "source": [
    "import numpy as np"
   ]
  },
  {
   "cell_type": "markdown",
   "metadata": {
    "id": "RzbuujTO80jS"
   },
   "source": [
    "## **We will assign for 9 = 1 , for 2 = 2 and rest as 0**:\n",
    "\n"
   ]
  },
  {
   "cell_type": "code",
   "execution_count": 121,
   "metadata": {
    "id": "NseOdhI1kqu0"
   },
   "outputs": [],
   "source": [
    "train_labels_new = np.where(train_labels == 9,1,(np.where(train_labels == 2,2,0)))"
   ]
  },
  {
   "cell_type": "code",
   "execution_count": 122,
   "metadata": {
    "colab": {
     "base_uri": "https://localhost:8080/"
    },
    "id": "c9RvWwmwpxYN",
    "outputId": "e754fc01-e1f4-442f-8960-5b481ea34264"
   },
   "outputs": [
    {
     "name": "stdout",
     "output_type": "stream",
     "text": [
      "[5 0 4 1 9 2 1 3 1 4 3 5 3 6 1 7 2 8 6 9]\n",
      "[0 0 0 0 1 2 0 0 0 0 0 0 0 0 0 0 2 0 0 1]\n"
     ]
    }
   ],
   "source": [
    "print(train_labels[:20])\n",
    "print(train_labels_new[:20])"
   ]
  },
  {
   "cell_type": "code",
   "execution_count": 123,
   "metadata": {
    "id": "k_3rbcj7p7K8"
   },
   "outputs": [],
   "source": [
    "test_labels_new = np.where(test_labels == 9,1,(np.where(test_labels == 2,2,0)))"
   ]
  },
  {
   "cell_type": "code",
   "execution_count": 124,
   "metadata": {
    "colab": {
     "base_uri": "https://localhost:8080/"
    },
    "id": "M5bo0e23qJNZ",
    "outputId": "a584f0fc-d8de-4d65-9022-0e597c2db92d"
   },
   "outputs": [
    {
     "name": "stdout",
     "output_type": "stream",
     "text": [
      "[7 2 1 0 4 1 4 9 5 9 0 6 9 0 1 5 9 7 3 4]\n",
      "[0 2 0 0 0 0 0 1 0 1 0 0 1 0 0 0 1 0 0 0]\n"
     ]
    }
   ],
   "source": [
    "print(test_labels[:20])\n",
    "print(test_labels_new[:20])"
   ]
  },
  {
   "cell_type": "code",
   "execution_count": 125,
   "metadata": {
    "id": "lS3SD7w6qM-I"
   },
   "outputs": [],
   "source": [
    "from keras.utils import to_categorical\n",
    "train_labels_m = to_categorical(train_labels_new)\n",
    "test_labels_m = to_categorical(test_labels_new)"
   ]
  },
  {
   "cell_type": "code",
   "execution_count": 126,
   "metadata": {
    "colab": {
     "base_uri": "https://localhost:8080/"
    },
    "id": "Yh_fjbdV2Ai3",
    "outputId": "7637f8f4-eeed-4fd9-d495-485a9df91697"
   },
   "outputs": [
    {
     "data": {
      "text/plain": [
       "array([[1., 0., 0.],\n",
       "       [0., 0., 1.],\n",
       "       [1., 0., 0.],\n",
       "       [1., 0., 0.],\n",
       "       [1., 0., 0.],\n",
       "       [1., 0., 0.],\n",
       "       [1., 0., 0.],\n",
       "       [0., 1., 0.],\n",
       "       [1., 0., 0.],\n",
       "       [0., 1., 0.]], dtype=float32)"
      ]
     },
     "execution_count": 126,
     "metadata": {},
     "output_type": "execute_result"
    }
   ],
   "source": [
    "test_labels_m[:10]"
   ]
  },
  {
   "cell_type": "code",
   "execution_count": 127,
   "metadata": {
    "colab": {
     "base_uri": "https://localhost:8080/"
    },
    "id": "QMrf1njg3gev",
    "outputId": "4d7a0863-4c13-4b99-8dfe-7142f660969e"
   },
   "outputs": [
    {
     "name": "stdout",
     "output_type": "stream",
     "text": [
      "(60000, 3)\n",
      "(10000, 3)\n"
     ]
    }
   ],
   "source": [
    "print(train_labels_m.shape)\n",
    "print(test_labels_m.shape)"
   ]
  },
  {
   "cell_type": "code",
   "execution_count": 128,
   "metadata": {
    "id": "YxAWy3Wtrtka"
   },
   "outputs": [],
   "source": [
    "from keras import models\n",
    "from keras import layers"
   ]
  },
  {
   "cell_type": "code",
   "execution_count": 129,
   "metadata": {
    "id": "lmfXo1cxz2vq"
   },
   "outputs": [],
   "source": [
    "model_A = keras.models.Sequential([\n",
    " keras.layers.Dense(units=150, input_shape=(28 * 28,), activation='relu'),\n",
    " keras.layers.Dense(units=100, activation='relu'),\n",
    " keras.layers.Dense(units=50, activation='relu'),\n",
    " keras.layers.Dense(units=10, activation='relu'),\n",
    " keras.layers.Dense(units=3, activation='softmax'),\n",
    " ])"
   ]
  },
  {
   "cell_type": "code",
   "execution_count": 130,
   "metadata": {
    "colab": {
     "base_uri": "https://localhost:8080/"
    },
    "id": "kWOMgJfi0-e5",
    "outputId": "f291a1d2-a1f5-4ba7-ea0e-1b4e7a6124e8"
   },
   "outputs": [
    {
     "name": "stdout",
     "output_type": "stream",
     "text": [
      "Model: \"sequential_5\"\n",
      "_________________________________________________________________\n",
      " Layer (type)                Output Shape              Param #   \n",
      "=================================================================\n",
      " dense_25 (Dense)            (None, 150)               117750    \n",
      "                                                                 \n",
      " dense_26 (Dense)            (None, 100)               15100     \n",
      "                                                                 \n",
      " dense_27 (Dense)            (None, 50)                5050      \n",
      "                                                                 \n",
      " dense_28 (Dense)            (None, 10)                510       \n",
      "                                                                 \n",
      " dense_29 (Dense)            (None, 3)                 33        \n",
      "                                                                 \n",
      "=================================================================\n",
      "Total params: 138,443\n",
      "Trainable params: 138,443\n",
      "Non-trainable params: 0\n",
      "_________________________________________________________________\n"
     ]
    }
   ],
   "source": [
    "model_A.summary()"
   ]
  },
  {
   "cell_type": "code",
   "execution_count": 131,
   "metadata": {
    "id": "izlPlSWR1B4s"
   },
   "outputs": [],
   "source": [
    "model_A.compile(loss='categorical_crossentropy', optimizer = keras.optimizers.SGD(learning_rate=0.01), metrics=['accuracy'])"
   ]
  },
  {
   "cell_type": "code",
   "execution_count": 132,
   "metadata": {
    "colab": {
     "base_uri": "https://localhost:8080/"
    },
    "id": "Mf5e6puC1Jz_",
    "outputId": "4a0a900e-9261-428d-8162-39777f62af73"
   },
   "outputs": [
    {
     "name": "stdout",
     "output_type": "stream",
     "text": [
      "Epoch 1/10\n",
      "118/118 [==============================] - 3s 20ms/step - loss: 0.6305 - accuracy: 0.7897 - val_loss: 0.5308 - val_accuracy: 0.7959\n",
      "Epoch 2/10\n",
      "118/118 [==============================] - 2s 13ms/step - loss: 0.4463 - accuracy: 0.8152 - val_loss: 0.3806 - val_accuracy: 0.8542\n",
      "Epoch 3/10\n",
      "118/118 [==============================] - 1s 11ms/step - loss: 0.3199 - accuracy: 0.8896 - val_loss: 0.2743 - val_accuracy: 0.9184\n",
      "Epoch 4/10\n",
      "118/118 [==============================] - 1s 11ms/step - loss: 0.2481 - accuracy: 0.9216 - val_loss: 0.2244 - val_accuracy: 0.9283\n",
      "Epoch 5/10\n",
      "118/118 [==============================] - 1s 11ms/step - loss: 0.2127 - accuracy: 0.9319 - val_loss: 0.1993 - val_accuracy: 0.9398\n",
      "Epoch 6/10\n",
      "118/118 [==============================] - 1s 11ms/step - loss: 0.1919 - accuracy: 0.9380 - val_loss: 0.1830 - val_accuracy: 0.9450\n",
      "Epoch 7/10\n",
      "118/118 [==============================] - 1s 11ms/step - loss: 0.1775 - accuracy: 0.9423 - val_loss: 0.1752 - val_accuracy: 0.9468\n",
      "Epoch 8/10\n",
      "118/118 [==============================] - 1s 11ms/step - loss: 0.1664 - accuracy: 0.9463 - val_loss: 0.1633 - val_accuracy: 0.9501\n",
      "Epoch 9/10\n",
      "118/118 [==============================] - 1s 11ms/step - loss: 0.1573 - accuracy: 0.9490 - val_loss: 0.1541 - val_accuracy: 0.9537\n",
      "Epoch 10/10\n",
      "118/118 [==============================] - 2s 19ms/step - loss: 0.1497 - accuracy: 0.9520 - val_loss: 0.1478 - val_accuracy: 0.9552\n"
     ]
    },
    {
     "data": {
      "text/plain": [
       "<keras.callbacks.History at 0x7fb9e016e340>"
      ]
     },
     "execution_count": 132,
     "metadata": {},
     "output_type": "execute_result"
    }
   ],
   "source": [
    "model_A.fit(train_images, train_labels_m,epochs=10,batch_size=512,validation_data=(test_images,test_labels_m))"
   ]
  },
  {
   "cell_type": "code",
   "execution_count": 133,
   "metadata": {
    "id": "TYy1Xa_43NDT"
   },
   "outputs": [],
   "source": [
    "weights = model_A.get_weights()"
   ]
  },
  {
   "cell_type": "code",
   "execution_count": 134,
   "metadata": {
    "colab": {
     "base_uri": "https://localhost:8080/"
    },
    "id": "kuoovVW95lqq",
    "outputId": "7bf10295-37ab-4a49-d589-4257d2080d79"
   },
   "outputs": [
    {
     "data": {
      "text/plain": [
       "((784, 150),\n",
       " (150,),\n",
       " (150, 100),\n",
       " (100,),\n",
       " (100, 50),\n",
       " (50,),\n",
       " (50, 10),\n",
       " (10,),\n",
       " (10, 3),\n",
       " (3,))"
      ]
     },
     "execution_count": 134,
     "metadata": {},
     "output_type": "execute_result"
    }
   ],
   "source": [
    "weights[0].shape,weights[1].shape,weights[2].shape,weights[3].shape,weights[4].shape,weights[5].shape,weights[6].shape,weights[7].shape,weights[8].shape,weights[9].shape"
   ]
  },
  {
   "cell_type": "code",
   "execution_count": 135,
   "metadata": {
    "colab": {
     "base_uri": "https://localhost:8080/"
    },
    "id": "qW_uqGjY5qPl",
    "outputId": "e7017acb-2011-44e8-ed0c-5c427f8a75ae"
   },
   "outputs": [
    {
     "name": "stdout",
     "output_type": "stream",
     "text": [
      "313/313 [==============================] - 1s 2ms/step\n"
     ]
    },
    {
     "data": {
      "text/plain": [
       "array([[0.996, 0.001, 0.003],\n",
       "       [0.328, 0.001, 0.671],\n",
       "       [0.983, 0.004, 0.013],\n",
       "       [0.999, 0.   , 0.001],\n",
       "       [0.903, 0.081, 0.017],\n",
       "       [0.991, 0.003, 0.006],\n",
       "       [0.997, 0.003, 0.   ],\n",
       "       [0.175, 0.816, 0.009]], dtype=float32)"
      ]
     },
     "execution_count": 135,
     "metadata": {},
     "output_type": "execute_result"
    }
   ],
   "source": [
    "y_predict = model_A.predict(test_images)\n",
    "y_predict = np.round(y_predict,3)\n",
    "y_predict[:8]"
   ]
  },
  {
   "cell_type": "code",
   "execution_count": 136,
   "metadata": {
    "colab": {
     "base_uri": "https://localhost:8080/"
    },
    "id": "AyiEI2Wt67ID",
    "outputId": "ff607488-8a71-4934-fbae-63fa339f4afd"
   },
   "outputs": [
    {
     "data": {
      "text/plain": [
       "array([0, 2, 0, ..., 0, 0, 0])"
      ]
     },
     "execution_count": 136,
     "metadata": {},
     "output_type": "execute_result"
    }
   ],
   "source": [
    "y_predict = y_predict.argmax(axis=1)\n",
    "\n",
    "y_predict"
   ]
  },
  {
   "cell_type": "code",
   "execution_count": 137,
   "metadata": {
    "colab": {
     "base_uri": "https://localhost:8080/"
    },
    "id": "R41mEppi7Dr6",
    "outputId": "c362b5dc-68f4-4f69-eaff-9f214a8afdb1"
   },
   "outputs": [
    {
     "data": {
      "text/plain": [
       "array([0, 2, 0, 0, 0, 0, 0, 1, 0, 1, 0, 0, 1, 0, 0, 0, 1, 0, 0, 0, 1, 0,\n",
       "       0, 0, 0, 0, 0, 0, 0, 0])"
      ]
     },
     "execution_count": 137,
     "metadata": {},
     "output_type": "execute_result"
    }
   ],
   "source": [
    "y_predict[:30]"
   ]
  },
  {
   "cell_type": "code",
   "execution_count": 138,
   "metadata": {
    "colab": {
     "base_uri": "https://localhost:8080/"
    },
    "id": "QsrLrwPYAI4M",
    "outputId": "e5131be5-8dfb-48f3-ccb0-23167c8ad89b"
   },
   "outputs": [
    {
     "data": {
      "text/plain": [
       "array([0, 2, 0, 0, 0, 0, 0, 1, 0, 1, 0, 0, 1, 0, 0, 0, 1, 0, 0, 0, 1, 0,\n",
       "       0, 0, 0, 0, 0, 0, 0, 0])"
      ]
     },
     "execution_count": 138,
     "metadata": {},
     "output_type": "execute_result"
    }
   ],
   "source": [
    "test_labels_new[:30]"
   ]
  },
  {
   "cell_type": "code",
   "execution_count": 139,
   "metadata": {
    "colab": {
     "base_uri": "https://localhost:8080/"
    },
    "id": "Cvv8HgUd7tOn",
    "outputId": "65ccfa78-3450-4156-abec-71fdac503bdf"
   },
   "outputs": [
    {
     "data": {
      "text/plain": [
       "array([7, 2, 1, 0, 4, 1, 4, 9, 5, 9, 0, 6, 9, 0, 1, 5, 9, 7, 3, 4],\n",
       "      dtype=uint8)"
      ]
     },
     "execution_count": 139,
     "metadata": {},
     "output_type": "execute_result"
    }
   ],
   "source": [
    "test_labels[:20]"
   ]
  },
  {
   "cell_type": "code",
   "execution_count": 140,
   "metadata": {
    "colab": {
     "base_uri": "https://localhost:8080/"
    },
    "id": "X2ZeFINc7zXG",
    "outputId": "2b2fb239-726f-4f47-9155-9adf6afd4e1f"
   },
   "outputs": [
    {
     "name": "stdout",
     "output_type": "stream",
     "text": [
      "313/313 [==============================] - 1s 2ms/step - loss: 0.1478 - accuracy: 0.9552\n"
     ]
    },
    {
     "data": {
      "text/plain": [
       "[0.14781220257282257, 0.9552000164985657]"
      ]
     },
     "execution_count": 140,
     "metadata": {},
     "output_type": "execute_result"
    }
   ],
   "source": [
    "model_A.evaluate(test_images,test_labels_m)"
   ]
  },
  {
   "cell_type": "code",
   "execution_count": 140,
   "metadata": {
    "id": "7dePNMqa8t0m"
   },
   "outputs": [],
   "source": []
  }
 ],
 "metadata": {
  "colab": {
   "provenance": []
  },
  "kernelspec": {
   "display_name": "Python 3 (ipykernel)",
   "language": "python",
   "name": "python3"
  },
  "language_info": {
   "codemirror_mode": {
    "name": "ipython",
    "version": 3
   },
   "file_extension": ".py",
   "mimetype": "text/x-python",
   "name": "python",
   "nbconvert_exporter": "python",
   "pygments_lexer": "ipython3",
   "version": "3.9.12"
  }
 },
 "nbformat": 4,
 "nbformat_minor": 1
}
